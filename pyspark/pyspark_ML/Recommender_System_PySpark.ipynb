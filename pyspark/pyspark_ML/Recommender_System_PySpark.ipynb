{
 "cells": [
  {
   "cell_type": "markdown",
   "metadata": {},
   "source": [
    "## Recommender System with PySpark"
   ]
  },
  {
   "cell_type": "markdown",
   "metadata": {},
   "source": [
    "### Data Info\n",
    "The dataset that we are going to use for this chapter is a subset from a famous open sourced movie lens dataset and contains a total of 0.1 million records with three columns (User_Id,title,rating). We will train our recommender model using 75% of the data and test it on the rest of the 25% user ratings."
   ]
  },
  {
   "cell_type": "code",
   "execution_count": 1,
   "metadata": {},
   "outputs": [
    {
     "name": "stderr",
     "output_type": "stream",
     "text": [
      "22/06/14 10:13:43 WARN Utils: Your hostname, mehrdad-Standard resolves to a loopback address: 127.0.1.1; using 128.179.176.230 instead (on interface wlp4s0)\n",
      "22/06/14 10:13:43 WARN Utils: Set SPARK_LOCAL_IP if you need to bind to another address\n",
      "WARNING: An illegal reflective access operation has occurred\n",
      "WARNING: Illegal reflective access by org.apache.spark.unsafe.Platform (file:/home/mehrdad/.local/lib/python3.8/site-packages/pyspark/jars/spark-unsafe_2.12-3.2.1.jar) to constructor java.nio.DirectByteBuffer(long,int)\n",
      "WARNING: Please consider reporting this to the maintainers of org.apache.spark.unsafe.Platform\n",
      "WARNING: Use --illegal-access=warn to enable warnings of further illegal reflective access operations\n",
      "WARNING: All illegal access operations will be denied in a future release\n",
      "Using Spark's default log4j profile: org/apache/spark/log4j-defaults.properties\n",
      "Setting default log level to \"WARN\".\n",
      "To adjust logging level use sc.setLogLevel(newLevel). For SparkR, use setLogLevel(newLevel).\n",
      "22/06/14 10:13:43 WARN NativeCodeLoader: Unable to load native-hadoop library for your platform... using builtin-java classes where applicable\n",
      "22/06/14 10:13:44 WARN Utils: Service 'SparkUI' could not bind on port 4040. Attempting port 4041.\n",
      "22/06/14 10:13:44 WARN Utils: Service 'SparkUI' could not bind on port 4041. Attempting port 4042.\n",
      "22/06/14 10:13:44 WARN Utils: Service 'SparkUI' could not bind on port 4042. Attempting port 4043.\n",
      "22/06/14 10:13:44 WARN Utils: Service 'SparkUI' could not bind on port 4043. Attempting port 4044.\n"
     ]
    }
   ],
   "source": [
    "#import and create sparksession object\n",
    "from pyspark.sql import SparkSession \n",
    "spark=SparkSession.builder.appName('rc').getOrCreate()"
   ]
  },
  {
   "cell_type": "code",
   "execution_count": 2,
   "metadata": {},
   "outputs": [],
   "source": [
    "#import the required functions and libraries\n",
    "from pyspark.sql.functions import *"
   ]
  },
  {
   "cell_type": "markdown",
   "metadata": {},
   "source": [
    "#### Read in the data"
   ]
  },
  {
   "cell_type": "code",
   "execution_count": 3,
   "metadata": {},
   "outputs": [],
   "source": [
    "#load the dataset and create sprk dataframe\n",
    "df=spark.read.csv('movie_ratings_df.csv',inferSchema=True,header=True)"
   ]
  },
  {
   "cell_type": "code",
   "execution_count": 4,
   "metadata": {},
   "outputs": [
    {
     "name": "stdout",
     "output_type": "stream",
     "text": [
      "(100000, 3)\n"
     ]
    }
   ],
   "source": [
    "#validate the shape of the data \n",
    "print((df.count(),len(df.columns)))"
   ]
  },
  {
   "cell_type": "code",
   "execution_count": 5,
   "metadata": {},
   "outputs": [
    {
     "name": "stdout",
     "output_type": "stream",
     "text": [
      "root\n",
      " |-- userId: integer (nullable = true)\n",
      " |-- title: string (nullable = true)\n",
      " |-- rating: integer (nullable = true)\n",
      "\n"
     ]
    }
   ],
   "source": [
    "#check columns in dataframe\n",
    "df.printSchema()"
   ]
  },
  {
   "cell_type": "markdown",
   "metadata": {},
   "source": [
    "There is a total of three columns out of which two are numerical and the title is categorical. The critical thing with using\n",
    "PySpark for building RS is that we need to have user_id and item_id in numerical form. Hence, we will convert the movie title\n",
    "to numerical values later."
   ]
  },
  {
   "cell_type": "code",
   "execution_count": 6,
   "metadata": {},
   "outputs": [
    {
     "name": "stdout",
     "output_type": "stream",
     "text": [
      "+------+---------------------------------+------+\n",
      "|userId|title                            |rating|\n",
      "+------+---------------------------------+------+\n",
      "|213   |Rear Window (1954)               |5     |\n",
      "|604   |Abyss, The (1989)                |4     |\n",
      "|375   |Mute Witness (1994)              |3     |\n",
      "|697   |Time to Kill, A (1996)           |4     |\n",
      "|711   |Heathers (1989)                  |4     |\n",
      "|447   |Aliens (1986)                    |4     |\n",
      "|394   |Terminator 2: Judgment Day (1991)|5     |\n",
      "|267   |Bram Stoker's Dracula (1992)     |4     |\n",
      "|676   |Scream (1996)                    |1     |\n",
      "|816   |Liar Liar (1997)                 |5     |\n",
      "+------+---------------------------------+------+\n",
      "only showing top 10 rows\n",
      "\n"
     ]
    }
   ],
   "source": [
    "#validate few rows of dataframe in random order\n",
    "df.orderBy(rand()).show(10,False)"
   ]
  },
  {
   "cell_type": "code",
   "execution_count": 7,
   "metadata": {},
   "outputs": [
    {
     "name": "stdout",
     "output_type": "stream",
     "text": [
      "+------+-----+\n",
      "|userId|count|\n",
      "+------+-----+\n",
      "|405   |737  |\n",
      "|655   |685  |\n",
      "|13    |636  |\n",
      "|450   |540  |\n",
      "|276   |518  |\n",
      "|416   |493  |\n",
      "|537   |490  |\n",
      "|303   |484  |\n",
      "|234   |480  |\n",
      "|393   |448  |\n",
      "+------+-----+\n",
      "only showing top 10 rows\n",
      "\n"
     ]
    }
   ],
   "source": [
    "# The users who have have rated the most number of movies\n",
    "df.groupBy('userId').count().orderBy('count',ascending=False).show(10,False)"
   ]
  },
  {
   "cell_type": "code",
   "execution_count": 8,
   "metadata": {},
   "outputs": [
    {
     "name": "stdout",
     "output_type": "stream",
     "text": [
      "+------+-----+\n",
      "|userId|count|\n",
      "+------+-----+\n",
      "|19    |20   |\n",
      "|143   |20   |\n",
      "|309   |20   |\n",
      "|34    |20   |\n",
      "|202   |20   |\n",
      "|732   |20   |\n",
      "|441   |20   |\n",
      "|685   |20   |\n",
      "|824   |20   |\n",
      "|631   |20   |\n",
      "+------+-----+\n",
      "only showing top 10 rows\n",
      "\n"
     ]
    }
   ],
   "source": [
    "#The users who have have rated the least number of movies\n",
    "df.groupBy('userId').count().orderBy('count',ascending=True).show(10,False)"
   ]
  },
  {
   "cell_type": "code",
   "execution_count": 9,
   "metadata": {},
   "outputs": [
    {
     "name": "stdout",
     "output_type": "stream",
     "text": [
      "+-----------------------------+-----+\n",
      "|title                        |count|\n",
      "+-----------------------------+-----+\n",
      "|Star Wars (1977)             |583  |\n",
      "|Contact (1997)               |509  |\n",
      "|Fargo (1996)                 |508  |\n",
      "|Return of the Jedi (1983)    |507  |\n",
      "|Liar Liar (1997)             |485  |\n",
      "|English Patient, The (1996)  |481  |\n",
      "|Scream (1996)                |478  |\n",
      "|Toy Story (1995)             |452  |\n",
      "|Air Force One (1997)         |431  |\n",
      "|Independence Day (ID4) (1996)|429  |\n",
      "+-----------------------------+-----+\n",
      "only showing top 10 rows\n",
      "\n"
     ]
    }
   ],
   "source": [
    "# Movies rated the most number of times \n",
    "df.groupBy('title').count().orderBy('count',ascending=False).show(10,False)"
   ]
  },
  {
   "cell_type": "code",
   "execution_count": 10,
   "metadata": {},
   "outputs": [
    {
     "name": "stdout",
     "output_type": "stream",
     "text": [
      "+------------------------------------------+-----+\n",
      "|title                                     |count|\n",
      "+------------------------------------------+-----+\n",
      "|Modern Affair, A (1995)                   |1    |\n",
      "|Tigrero: A Film That Was Never Made (1994)|1    |\n",
      "|JLG/JLG - autoportrait de d�cembre (1994) |1    |\n",
      "|Target (1995)                             |1    |\n",
      "|Vie est belle, La (Life is Rosey) (1987)  |1    |\n",
      "|Fear, The (1995)                          |1    |\n",
      "|Next Step, The (1995)                     |1    |\n",
      "|Mad Dog Time (1996)                       |1    |\n",
      "|Leopard Son, The (1996)                   |1    |\n",
      "|Lashou shentan (1992)                     |1    |\n",
      "+------------------------------------------+-----+\n",
      "only showing top 10 rows\n",
      "\n"
     ]
    }
   ],
   "source": [
    "# Movies rated the least number of times \n",
    "df.groupBy('title').count().orderBy('count',ascending=True).show(10,False)"
   ]
  },
  {
   "cell_type": "markdown",
   "metadata": {},
   "source": [
    "#### Feature Engineering: Transform movietitle to numeric"
   ]
  },
  {
   "cell_type": "code",
   "execution_count": 11,
   "metadata": {},
   "outputs": [],
   "source": [
    "# import String indexer to convert string values to numeric values\n",
    "from pyspark.ml.feature import StringIndexer,IndexToString"
   ]
  },
  {
   "cell_type": "code",
   "execution_count": 12,
   "metadata": {},
   "outputs": [],
   "source": [
    "#creating string indexer to convert the movie title column values into numerical values\n",
    "stringIndexer = StringIndexer(inputCol=\"title\", outputCol=\"title_new\")"
   ]
  },
  {
   "cell_type": "code",
   "execution_count": 13,
   "metadata": {},
   "outputs": [],
   "source": [
    "#applying stringindexer object on dataframe movie title column\n",
    "model = stringIndexer.fit(df)"
   ]
  },
  {
   "cell_type": "code",
   "execution_count": 14,
   "metadata": {},
   "outputs": [],
   "source": [
    "#creating new dataframe with transformed values\n",
    "indexed = model.transform(df)"
   ]
  },
  {
   "cell_type": "code",
   "execution_count": 15,
   "metadata": {},
   "outputs": [
    {
     "name": "stdout",
     "output_type": "stream",
     "text": [
      "+------+------------+------+---------+\n",
      "|userId|       title|rating|title_new|\n",
      "+------+------------+------+---------+\n",
      "|   196|Kolya (1996)|     3|    287.0|\n",
      "|    63|Kolya (1996)|     3|    287.0|\n",
      "|   226|Kolya (1996)|     5|    287.0|\n",
      "|   154|Kolya (1996)|     3|    287.0|\n",
      "|   306|Kolya (1996)|     5|    287.0|\n",
      "|   296|Kolya (1996)|     4|    287.0|\n",
      "|    34|Kolya (1996)|     5|    287.0|\n",
      "|   271|Kolya (1996)|     4|    287.0|\n",
      "|   201|Kolya (1996)|     4|    287.0|\n",
      "|   209|Kolya (1996)|     4|    287.0|\n",
      "+------+------------+------+---------+\n",
      "only showing top 10 rows\n",
      "\n"
     ]
    }
   ],
   "source": [
    "#validate the numerical title values\n",
    "indexed.show(10)"
   ]
  },
  {
   "cell_type": "code",
   "execution_count": 16,
   "metadata": {},
   "outputs": [
    {
     "name": "stdout",
     "output_type": "stream",
     "text": [
      "+---------+-----+\n",
      "|title_new|count|\n",
      "+---------+-----+\n",
      "|0.0      |583  |\n",
      "|1.0      |509  |\n",
      "|2.0      |508  |\n",
      "|3.0      |507  |\n",
      "|4.0      |485  |\n",
      "|5.0      |481  |\n",
      "|6.0      |478  |\n",
      "|7.0      |452  |\n",
      "|8.0      |431  |\n",
      "|9.0      |429  |\n",
      "+---------+-----+\n",
      "only showing top 10 rows\n",
      "\n"
     ]
    }
   ],
   "source": [
    "#number of times each numerical movie title has been rated \n",
    "indexed.groupBy('title_new').count().orderBy('count',ascending=False).show(10,False)"
   ]
  },
  {
   "cell_type": "markdown",
   "metadata": {},
   "source": [
    "#### Split data into train and test:"
   ]
  },
  {
   "cell_type": "code",
   "execution_count": 17,
   "metadata": {},
   "outputs": [],
   "source": [
    "#split the data into training and test datatset\n",
    "train,test=indexed.randomSplit([0.75,0.25])"
   ]
  },
  {
   "cell_type": "code",
   "execution_count": 18,
   "metadata": {},
   "outputs": [
    {
     "data": {
      "text/plain": [
       "75106"
      ]
     },
     "execution_count": 18,
     "metadata": {},
     "output_type": "execute_result"
    }
   ],
   "source": [
    "#count number of records in train set\n",
    "train.count()"
   ]
  },
  {
   "cell_type": "code",
   "execution_count": 19,
   "metadata": {},
   "outputs": [
    {
     "data": {
      "text/plain": [
       "24894"
      ]
     },
     "execution_count": 19,
     "metadata": {},
     "output_type": "execute_result"
    }
   ],
   "source": [
    "#count number of records in test set\n",
    "test.count()"
   ]
  },
  {
   "cell_type": "markdown",
   "metadata": {},
   "source": [
    "#### Training the model:"
   ]
  },
  {
   "cell_type": "code",
   "execution_count": 20,
   "metadata": {},
   "outputs": [],
   "source": [
    "#import ALS recommender function from pyspark ml library\n",
    "from pyspark.ml.recommendation import ALS"
   ]
  },
  {
   "cell_type": "code",
   "execution_count": 21,
   "metadata": {},
   "outputs": [],
   "source": [
    "#Training the recommender model using train datatset\n",
    "rec=ALS(maxIter=10,regParam=0.01,userCol='userId',itemCol='title_new',ratingCol='rating',nonnegative=True,coldStartStrategy=\"drop\")"
   ]
  },
  {
   "cell_type": "code",
   "execution_count": 22,
   "metadata": {},
   "outputs": [],
   "source": [
    "#fit the model on train set\n",
    "rec_model=rec.fit(train)"
   ]
  },
  {
   "cell_type": "code",
   "execution_count": 23,
   "metadata": {},
   "outputs": [],
   "source": [
    "#making predictions on test set \n",
    "predicted_ratings=rec_model.transform(test)"
   ]
  },
  {
   "cell_type": "code",
   "execution_count": 24,
   "metadata": {},
   "outputs": [
    {
     "name": "stdout",
     "output_type": "stream",
     "text": [
      "root\n",
      " |-- userId: integer (nullable = true)\n",
      " |-- title: string (nullable = true)\n",
      " |-- rating: integer (nullable = true)\n",
      " |-- title_new: double (nullable = false)\n",
      " |-- prediction: float (nullable = false)\n",
      "\n"
     ]
    }
   ],
   "source": [
    "#columns in predicted ratings dataframe\n",
    "predicted_ratings.printSchema()"
   ]
  },
  {
   "cell_type": "code",
   "execution_count": 25,
   "metadata": {},
   "outputs": [
    {
     "name": "stdout",
     "output_type": "stream",
     "text": [
      "+------+--------------------+------+---------+----------+\n",
      "|userId|               title|rating|title_new|prediction|\n",
      "+------+--------------------+------+---------+----------+\n",
      "|   468|      Amadeus (1984)|     4|     50.0| 4.9573684|\n",
      "|   807|Return of the Jed...|     5|      3.0| 4.6208773|\n",
      "|   141|      Kingpin (1996)|     4|    182.0|  4.202782|\n",
      "|   419|Return of the Jed...|     4|      3.0| 4.1473756|\n",
      "|   497|Event Horizon (1997)|     4|    254.0| 2.5687022|\n",
      "|   703|      Twister (1996)|     5|     43.0|  3.632878|\n",
      "|   178|Graduate, The (1967)|     2|     78.0| 3.6445382|\n",
      "|   336|       Grease (1978)|     2|    168.0| 2.8548625|\n",
      "|   429|Strictly Ballroom...|     4|    320.0| 3.8368697|\n",
      "|    18|Schindler's List ...|     5|     36.0|  4.466964|\n",
      "+------+--------------------+------+---------+----------+\n",
      "only showing top 10 rows\n",
      "\n"
     ]
    }
   ],
   "source": [
    "#predicted vs actual ratings for test set \n",
    "predicted_ratings.orderBy(rand()).show(10)"
   ]
  },
  {
   "cell_type": "markdown",
   "metadata": {},
   "source": [
    "#### Measuring Model Performamce:"
   ]
  },
  {
   "cell_type": "code",
   "execution_count": 26,
   "metadata": {},
   "outputs": [
    {
     "name": "stdout",
     "output_type": "stream",
     "text": [
      "+------+--------------------+------+---------+----------+----------+\n",
      "|userId|               title|rating|title_new|prediction|       err|\n",
      "+------+--------------------+------+---------+----------+----------+\n",
      "|   148|Beauty and the Be...|     4|    114.0|  4.666982| 0.6669822|\n",
      "|   148|  Being There (1979)|     5|    290.0|  4.806283|  0.193717|\n",
      "|   148| Blade Runner (1982)|     5|     52.0|  4.684685|0.31531477|\n",
      "|   148|     Fantasia (1940)|     5|    153.0| 2.7503147| 2.2496853|\n",
      "|   148|   Free Willy (1993)|     1|    761.0| 5.2160954| 4.2160954|\n",
      "|   148|Grand Day Out, A ...|     4|    494.0|  4.606607|0.60660696|\n",
      "|   148|       Hamlet (1996)|     2|    373.0| 4.2836447| 2.2836447|\n",
      "|   148|Homeward Bound: T...|     1|    533.0| 4.6918488| 3.6918488|\n",
      "|   148|Lion King, The (1...|     5|     93.0|  4.766523|0.23347712|\n",
      "|   148|      Othello (1995)|     3|    453.0|  1.981492|  1.018508|\n",
      "|   148|Pink Floyd - The ...|     5|    298.0|  3.150952| 1.8490479|\n",
      "|   148| Pulp Fiction (1994)|     5|     12.0| 2.7536287| 2.2463713|\n",
      "|   148|Return of the Pin...|     4|    363.0| 5.2512693| 1.2512693|\n",
      "|   148|      Rob Roy (1995)|     3|    364.0| 5.1436863| 2.1436863|\n",
      "|   148|   Sting, The (1973)|     5|     75.0| 5.6149125| 0.6149125|\n",
      "|   148|    Toy Story (1995)|     4|      7.0| 4.2040815|0.20408154|\n",
      "|   148|Twelve Monkeys (1...|     5|     13.0| 3.7847772| 1.2152228|\n",
      "|   148|Wizard of Oz, The...|     4|     70.0|  4.565192| 0.5651922|\n",
      "|   148|Wrong Trousers, T...|     5|    285.0|  5.776848|0.77684784|\n",
      "|   463|        Bound (1996)|     2|    242.0| 4.1165404| 2.1165404|\n",
      "+------+--------------------+------+---------+----------+----------+\n",
      "only showing top 20 rows\n",
      "\n"
     ]
    }
   ],
   "source": [
    "predicted_ratings_witherr=predicted_ratings.withColumn('err',abs(predicted_ratings.prediction - predicted_ratings.rating))\n",
    "\n",
    "\n",
    "predicted_ratings_witherr.show()\n"
   ]
  },
  {
   "cell_type": "code",
   "execution_count": 27,
   "metadata": {},
   "outputs": [
    {
     "name": "stdout",
     "output_type": "stream",
     "text": [
      "+------+-----+\n",
      "|rating|count|\n",
      "+------+-----+\n",
      "|     1| 6110|\n",
      "|     2|11370|\n",
      "|     3|27145|\n",
      "|     4|34174|\n",
      "|     5|21201|\n",
      "+------+-----+\n",
      "\n"
     ]
    }
   ],
   "source": [
    "df.groupBy('rating').count().orderBy('rating',ascending=True).show()\n"
   ]
  },
  {
   "cell_type": "code",
   "execution_count": 28,
   "metadata": {},
   "outputs": [
    {
     "name": "stdout",
     "output_type": "stream",
     "text": [
      "+------+------------------+\n",
      "|rating|          avg(err)|\n",
      "+------+------------------+\n",
      "|     1|1.6221745321625158|\n",
      "|     2|1.0483186148732349|\n",
      "|     3|0.6372452690720227|\n",
      "|     4|0.5694578637062283|\n",
      "|     5|0.9588863216076843|\n",
      "+------+------------------+\n",
      "\n"
     ]
    }
   ],
   "source": [
    "predicted_ratings_witherr.groupBy('rating').agg({'err':'mean'}).orderBy('rating',ascending=True).show()"
   ]
  },
  {
   "cell_type": "code",
   "execution_count": 29,
   "metadata": {},
   "outputs": [],
   "source": [
    "#importing Regression Evaluator to measure RMSE\n",
    "from pyspark.ml.evaluation import RegressionEvaluator"
   ]
  },
  {
   "cell_type": "code",
   "execution_count": 30,
   "metadata": {},
   "outputs": [],
   "source": [
    "#create Regressor evaluator object for measuring accuracy\n",
    "evaluator=RegressionEvaluator(metricName='rmse',predictionCol='prediction',labelCol='rating')"
   ]
  },
  {
   "cell_type": "code",
   "execution_count": 31,
   "metadata": {},
   "outputs": [],
   "source": [
    "#apply the RE on predictions dataframe to calculate RMSE\n",
    "rmse=evaluator.evaluate(predicted_ratings)"
   ]
  },
  {
   "cell_type": "code",
   "execution_count": 32,
   "metadata": {},
   "outputs": [
    {
     "name": "stdout",
     "output_type": "stream",
     "text": [
      "1.0312237329706802\n"
     ]
    }
   ],
   "source": [
    "#print RMSE error\n",
    "print(rmse)"
   ]
  },
  {
   "cell_type": "markdown",
   "metadata": {},
   "source": [
    "#### Recommending movies: "
   ]
  },
  {
   "cell_type": "code",
   "execution_count": 33,
   "metadata": {},
   "outputs": [],
   "source": [
    "#create dataset of all distinct movies \n",
    "unique_movies=indexed.select('title_new').distinct()"
   ]
  },
  {
   "cell_type": "code",
   "execution_count": 34,
   "metadata": {},
   "outputs": [
    {
     "data": {
      "text/plain": [
       "1664"
      ]
     },
     "execution_count": 34,
     "metadata": {},
     "output_type": "execute_result"
    }
   ],
   "source": [
    "#number of unique movies\n",
    "unique_movies.count()"
   ]
  },
  {
   "cell_type": "code",
   "execution_count": 35,
   "metadata": {},
   "outputs": [],
   "source": [
    "#assigning alias name 'a' to unique movies df\n",
    "a = unique_movies.alias('a')"
   ]
  },
  {
   "cell_type": "code",
   "execution_count": 36,
   "metadata": {},
   "outputs": [],
   "source": [
    "user_id=100"
   ]
  },
  {
   "cell_type": "code",
   "execution_count": 37,
   "metadata": {},
   "outputs": [],
   "source": [
    "#creating another dataframe which contains already watched movie by active user \n",
    "watched_movies=indexed.filter(indexed['userId'] == user_id).select('title_new').distinct()"
   ]
  },
  {
   "cell_type": "code",
   "execution_count": 38,
   "metadata": {},
   "outputs": [
    {
     "data": {
      "text/plain": [
       "59"
      ]
     },
     "execution_count": 38,
     "metadata": {},
     "output_type": "execute_result"
    }
   ],
   "source": [
    "#number of movies already rated \n",
    "watched_movies.count()"
   ]
  },
  {
   "cell_type": "code",
   "execution_count": 39,
   "metadata": {},
   "outputs": [],
   "source": [
    "#assigning alias name 'b' to watched movies df\n",
    "b=watched_movies.alias('b')"
   ]
  },
  {
   "cell_type": "code",
   "execution_count": 40,
   "metadata": {},
   "outputs": [],
   "source": [
    "#joining both tables on left join \n",
    "total_movies = a.join(b, a.title_new == b.title_new,how='left')\n"
   ]
  },
  {
   "cell_type": "code",
   "execution_count": 41,
   "metadata": {},
   "outputs": [
    {
     "name": "stdout",
     "output_type": "stream",
     "text": [
      "+---------+---------+\n",
      "|title_new|title_new|\n",
      "+---------+---------+\n",
      "|305.0    |null     |\n",
      "|596.0    |null     |\n",
      "|299.0    |299.0    |\n",
      "|769.0    |null     |\n",
      "|692.0    |692.0    |\n",
      "|934.0    |null     |\n",
      "|1051.0   |null     |\n",
      "|496.0    |null     |\n",
      "|558.0    |null     |\n",
      "|170.0    |170.0    |\n",
      "+---------+---------+\n",
      "only showing top 10 rows\n",
      "\n"
     ]
    }
   ],
   "source": [
    "total_movies.show(10,False)"
   ]
  },
  {
   "cell_type": "code",
   "execution_count": 42,
   "metadata": {},
   "outputs": [],
   "source": [
    "#selecting movies which active user is yet to rate or watch\n",
    "remaining_movies=total_movies.where(col(\"b.title_new\").isNull()).select(a.title_new).distinct()"
   ]
  },
  {
   "cell_type": "code",
   "execution_count": 43,
   "metadata": {},
   "outputs": [
    {
     "data": {
      "text/plain": [
       "1605"
      ]
     },
     "execution_count": 43,
     "metadata": {},
     "output_type": "execute_result"
    }
   ],
   "source": [
    "#number of movies user is yet to rate \n",
    "remaining_movies.count()"
   ]
  },
  {
   "cell_type": "code",
   "execution_count": 44,
   "metadata": {},
   "outputs": [],
   "source": [
    "#adding new column of user_Id of active useer to remaining movies df \n",
    "remaining_movies=remaining_movies.withColumn(\"userId\",lit(int(user_id)))\n"
   ]
  },
  {
   "cell_type": "code",
   "execution_count": 45,
   "metadata": {},
   "outputs": [
    {
     "name": "stdout",
     "output_type": "stream",
     "text": [
      "+---------+------+\n",
      "|title_new|userId|\n",
      "+---------+------+\n",
      "|305.0    |100   |\n",
      "|596.0    |100   |\n",
      "|769.0    |100   |\n",
      "|934.0    |100   |\n",
      "|1051.0   |100   |\n",
      "|496.0    |100   |\n",
      "|558.0    |100   |\n",
      "|184.0    |100   |\n",
      "|576.0    |100   |\n",
      "|147.0    |100   |\n",
      "+---------+------+\n",
      "only showing top 10 rows\n",
      "\n"
     ]
    }
   ],
   "source": [
    "remaining_movies.show(10,False)"
   ]
  },
  {
   "cell_type": "code",
   "execution_count": 46,
   "metadata": {},
   "outputs": [],
   "source": [
    "#making recommendations using ALS recommender model and selecting only top 'n' movies\n",
    "recommendations=rec_model.transform(remaining_movies).orderBy('prediction',ascending=False)"
   ]
  },
  {
   "cell_type": "code",
   "execution_count": 47,
   "metadata": {},
   "outputs": [
    {
     "name": "stdout",
     "output_type": "stream",
     "text": [
      "+---------+------+----------+\n",
      "|title_new|userId|prediction|\n",
      "+---------+------+----------+\n",
      "|1103.0   |100   |5.8623085 |\n",
      "|1120.0   |100   |5.596802  |\n",
      "|1057.0   |100   |5.3697386 |\n",
      "|1191.0   |100   |5.3175635 |\n",
      "|905.0    |100   |5.1367264 |\n",
      "+---------+------+----------+\n",
      "only showing top 5 rows\n",
      "\n"
     ]
    }
   ],
   "source": [
    "recommendations.show(5,False)"
   ]
  },
  {
   "cell_type": "code",
   "execution_count": 48,
   "metadata": {},
   "outputs": [],
   "source": [
    "#converting title_new values back to movie titles\n",
    "movie_title = IndexToString(inputCol=\"title_new\", outputCol=\"title\",labels=model.labels)\n",
    "\n",
    "final_recommendations=movie_title.transform(recommendations)\n"
   ]
  },
  {
   "cell_type": "code",
   "execution_count": 49,
   "metadata": {},
   "outputs": [
    {
     "name": "stdout",
     "output_type": "stream",
     "text": [
      "+---------+------+----------+------------------------------------------------------------------+\n",
      "|title_new|userId|prediction|title                                                             |\n",
      "+---------+------+----------+------------------------------------------------------------------+\n",
      "|1103.0   |100   |5.8623085 |Stalker (1979)                                                    |\n",
      "|1120.0   |100   |5.596802  |Crooklyn (1994)                                                   |\n",
      "|1057.0   |100   |5.3697386 |Safe (1995)                                                       |\n",
      "|1191.0   |100   |5.3175635 |Jason's Lyric (1994)                                              |\n",
      "|905.0    |100   |5.1367264 |Welcome To Sarajevo (1997)                                        |\n",
      "|892.0    |100   |5.076649  |Double vie de V�ronique, La (Double Life of Veronique, The) (1991)|\n",
      "|1385.0   |100   |4.9750447 |Maya Lin: A Strong Clear Vision (1994)                            |\n",
      "|884.0    |100   |4.971722  |Ruby in Paradise (1993)                                           |\n",
      "|1134.0   |100   |4.875327  |Picture Bride (1995)                                              |\n",
      "|779.0    |100   |4.8686085 |Die xue shuang xiong (Killer, The) (1989)                         |\n",
      "+---------+------+----------+------------------------------------------------------------------+\n",
      "only showing top 10 rows\n",
      "\n"
     ]
    }
   ],
   "source": [
    "final_recommendations.show(10,False)"
   ]
  },
  {
   "cell_type": "markdown",
   "metadata": {},
   "source": [
    "#### Wrapping everything into a function for reuse:"
   ]
  },
  {
   "cell_type": "code",
   "execution_count": 50,
   "metadata": {},
   "outputs": [],
   "source": [
    "#create function to recommend top 'n' movies to any particular user\n",
    "def top_movies(user_id,n):\n",
    "    \"\"\"\n",
    "    This function returns the top 'n' movies that user has not seen yet but might like \n",
    "    \n",
    "    \"\"\"\n",
    "    #assigning alias name 'a' to unique movies df\n",
    "    a = unique_movies.alias('a')\n",
    "    \n",
    "    #creating another dataframe which contains already watched movie by active user \n",
    "    watched_movies=indexed.filter(indexed['userId'] == user_id).select('title_new')\n",
    "    \n",
    "    #assigning alias name 'b' to watched movies df\n",
    "    b=watched_movies.alias('b')\n",
    "    \n",
    "    #joining both tables on left join \n",
    "    total_movies = a.join(b, a.title_new == b.title_new,how='left')\n",
    "    \n",
    "    #selecting movies which active user is yet to rate or watch\n",
    "    remaining_movies=total_movies.where(col(\"b.title_new\").isNull()).select(a.title_new).distinct()\n",
    "    \n",
    "    \n",
    "    #adding new column of user_Id of active useer to remaining movies df \n",
    "    remaining_movies=remaining_movies.withColumn(\"userId\",lit(int(user_id)))\n",
    "    \n",
    "    \n",
    "    #making recommendations using ALS recommender model and selecting only top 'n' movies\n",
    "    recommendations=rec_model.transform(remaining_movies).orderBy('prediction',ascending=False).limit(n)\n",
    "    \n",
    "    \n",
    "    #adding columns of movie titles in recommendations\n",
    "    movie_title = IndexToString(inputCol=\"title_new\", outputCol=\"title\",labels=model.labels)\n",
    "    final_recommendations=movie_title.transform(recommendations)\n",
    "    \n",
    "    #return the recommendations to active user\n",
    "    return final_recommendations.show(n,False)"
   ]
  },
  {
   "cell_type": "code",
   "execution_count": 51,
   "metadata": {},
   "outputs": [
    {
     "name": "stdout",
     "output_type": "stream",
     "text": [
      "+---------+------+----------+------------------------------------------------------------------+\n",
      "|title_new|userId|prediction|title                                                             |\n",
      "+---------+------+----------+------------------------------------------------------------------+\n",
      "|1103.0   |100   |5.8623085 |Stalker (1979)                                                    |\n",
      "|1120.0   |100   |5.596802  |Crooklyn (1994)                                                   |\n",
      "|1057.0   |100   |5.3697386 |Safe (1995)                                                       |\n",
      "|1191.0   |100   |5.3175635 |Jason's Lyric (1994)                                              |\n",
      "|905.0    |100   |5.1367264 |Welcome To Sarajevo (1997)                                        |\n",
      "|892.0    |100   |5.076649  |Double vie de V�ronique, La (Double Life of Veronique, The) (1991)|\n",
      "|1385.0   |100   |4.9750447 |Maya Lin: A Strong Clear Vision (1994)                            |\n",
      "|884.0    |100   |4.971722  |Ruby in Paradise (1993)                                           |\n",
      "|1134.0   |100   |4.875327  |Picture Bride (1995)                                              |\n",
      "|779.0    |100   |4.8686085 |Die xue shuang xiong (Killer, The) (1989)                         |\n",
      "+---------+------+----------+------------------------------------------------------------------+\n",
      "\n"
     ]
    }
   ],
   "source": [
    "top_movies(100,10)"
   ]
  },
  {
   "cell_type": "code",
   "execution_count": 52,
   "metadata": {},
   "outputs": [
    {
     "name": "stdout",
     "output_type": "stream",
     "text": [
      "+---------+------+----------+---------------------------------------+\n",
      "|title_new|userId|prediction|title                                  |\n",
      "+---------+------+----------+---------------------------------------+\n",
      "|691.0    |405   |4.64808   |Some Folks Call It a Sling Blade (1993)|\n",
      "|1208.0   |405   |4.633911  |Ayn Rand: A Sense of Life (1997)       |\n",
      "|998.0    |405   |4.2558103 |Selena (1997)                          |\n",
      "|1205.0   |405   |4.1107774 |Walking and Talking (1996)             |\n",
      "|1335.0   |405   |4.109911  |Stripes (1981)                         |\n",
      "|558.0    |405   |4.005119  |Bananas (1971)                         |\n",
      "|5.0      |405   |3.9411144 |English Patient, The (1996)            |\n",
      "|1483.0   |405   |3.9395828 |Everest (1998)                         |\n",
      "|157.0    |405   |3.8434207 |My Best Friend's Wedding (1997)        |\n",
      "|120.0    |405   |3.8082979 |Good Will Hunting (1997)               |\n",
      "+---------+------+----------+---------------------------------------+\n",
      "\n"
     ]
    }
   ],
   "source": [
    "top_movies(405,10)"
   ]
  }
 ],
 "metadata": {
  "kernelspec": {
   "display_name": "Python 3 (ipykernel)",
   "language": "python",
   "name": "python3"
  },
  "language_info": {
   "codemirror_mode": {
    "name": "ipython",
    "version": 3
   },
   "file_extension": ".py",
   "mimetype": "text/x-python",
   "name": "python",
   "nbconvert_exporter": "python",
   "pygments_lexer": "ipython3",
   "version": "3.8.10"
  }
 },
 "nbformat": 4,
 "nbformat_minor": 2
}
